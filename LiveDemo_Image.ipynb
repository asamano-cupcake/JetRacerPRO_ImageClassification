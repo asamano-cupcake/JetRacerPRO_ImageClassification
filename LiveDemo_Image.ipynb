{
 "cells": [
  {
   "cell_type": "code",
   "execution_count": null,
   "id": "limited-essence",
   "metadata": {},
   "outputs": [],
   "source": [
    "import torch\n",
    "import cv2\n",
    "from torchvision import transforms, models\n",
    "from jetcam.csi_camera import CSICamera\n",
    "import numpy as np\n",
    "import ipywidgets as widgets\n",
    "from IPython.display import display\n",
    "from jetcam.utils import bgr8_to_jpeg"
   ]
  },
  {
   "cell_type": "code",
   "execution_count": null,
   "id": "checked-auction",
   "metadata": {},
   "outputs": [],
   "source": [
    "class_names = ['bike', 'railroads', 'road', 'stop', 'trafficlights']   #change to actual names"
   ]
  },
  {
   "cell_type": "code",
   "execution_count": null,
   "id": "stable-organic",
   "metadata": {},
   "outputs": [],
   "source": [
    "model = models.resnet18(pretrained=False)\n",
    "model.fc = torch.nn.Linear(model.fc.in_features, len(class_names))\n",
    "model.load_state_dict(torch.load('model.pth', map_location=torch.device('cuda' if torch.cuda.is_available() else 'cpu')))\n",
    "model.eval()\n",
    "model = model.to('cuda' if torch.cuda.is_available() else 'cpu')"
   ]
  },
  {
   "cell_type": "code",
   "execution_count": null,
   "id": "undefined-appendix",
   "metadata": {},
   "outputs": [],
   "source": [
    "transform = transforms.Compose([\n",
    "    transforms.ToPILImage(),\n",
    "    transforms.Resize((224, 224)),\n",
    "    transforms.ToTensor(),\n",
    "    transforms.Normalize(mean=[0.485, 0.456, 0.406],\n",
    "                         std=[0.229, 0.224, 0.225])\n",
    "])"
   ]
  },
  {
   "cell_type": "code",
   "execution_count": null,
   "id": "acoustic-portugal",
   "metadata": {},
   "outputs": [],
   "source": [
    "camera = CSICamera(width=224, height=224, capture_fps=65)\n",
    "output_widget = widgets.Image(format='jpeg', width=224, height=224)\n",
    "camera.running = True\n"
   ]
  },
  {
   "cell_type": "code",
   "execution_count": null,
   "id": "universal-nerve",
   "metadata": {},
   "outputs": [],
   "source": [
    "import time\n",
    "print(\"Starting live classification.\")\n",
    "\n",
    "output_widget = widgets.Image(format='jpeg', width=224, height=224)\n",
    "display(output_widget)\n",
    "\n",
    "while True:\n",
    "    frame = camera.value  # numpy array (height, width, channels)\n",
    "\n",
    "    image = cv2.cvtColor(frame, cv2.COLOR_BGR2RGB)\n",
    "\n",
    "    input_tensor = transform(image).unsqueeze(0).to('cuda' if torch.cuda.is_available() else 'cpu')\n",
    "\n",
    "    with torch.no_grad(): #making the prediction/inference\n",
    "        outputs = model(input_tensor)\n",
    "        _, predicted = outputs.max(1)\n",
    "        label = class_names[predicted.item()]\n",
    "\n",
    "    annotated_frame = frame.copy()\n",
    "    cv2.putText(annotated_frame, f'Prediction: {label}', (10, 20),\n",
    "                cv2.FONT_HERSHEY_SIMPLEX, 0.5, (0, 255, 0), 2)\n",
    "\n",
    "    output_widget.value = bgr8_to_jpeg(annotated_frame) #Displaying the Image\n",
    "    time.sleep(0.05) \n",
    "    "
   ]
  }
 ],
 "metadata": {
  "kernelspec": {
   "display_name": "Python 3",
   "language": "python",
   "name": "python3"
  },
  "language_info": {
   "codemirror_mode": {
    "name": "ipython",
    "version": 3
   },
   "file_extension": ".py",
   "mimetype": "text/x-python",
   "name": "python",
   "nbconvert_exporter": "python",
   "pygments_lexer": "ipython3",
   "version": "3.6.9"
  }
 },
 "nbformat": 4,
 "nbformat_minor": 5
}
